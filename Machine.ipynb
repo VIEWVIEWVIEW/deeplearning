{
 "cells": [
  {
   "cell_type": "code",
   "execution_count": 3,
   "metadata": {},
   "outputs": [
    {
     "name": "stdout",
     "output_type": "stream",
     "text": [
      "Hello World\n",
      "x86_64 x86_64 uname_result(system='Linux', node='jupyter-maric007', release='5.4.0-164-generic', version='#181-Ubuntu SMP Fri Sep 1 13:41:22 UTC 2023', machine='x86_64')\n",
      "504 GB\n"
     ]
    }
   ],
   "source": [
    "print(\"Hello World\")\n",
    "\n",
    "import platform, psutil\n",
    "print(platform.machine(), platform.processor(), platform.uname())\n",
    "print(str(round(psutil.virtual_memory().total / (1024.0 **3)))+\" GB\")"
   ]
  }
 ],
 "metadata": {
  "kernelspec": {
   "display_name": ".venv",
   "language": "python",
   "name": "python3"
  },
  "language_info": {
   "codemirror_mode": {
    "name": "ipython",
    "version": 3
   },
   "file_extension": ".py",
   "mimetype": "text/x-python",
   "name": "python",
   "nbconvert_exporter": "python",
   "pygments_lexer": "ipython3",
   "version": "3.10.6"
  }
 },
 "nbformat": 4,
 "nbformat_minor": 2
}
